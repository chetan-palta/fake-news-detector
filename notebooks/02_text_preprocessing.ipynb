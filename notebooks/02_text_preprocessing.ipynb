{
 "cells": [
  {
   "cell_type": "code",
   "execution_count": 23,
   "id": "700e52e6-9da4-488f-9eb4-73e330a24ec2",
   "metadata": {},
   "outputs": [],
   "source": [
    "import pandas as pd\n",
    "import re\n",
    "import nltk\n",
    "from nltk.corpus import stopwords\n",
    "from nltk.stem import WordNetLemmatizer\n",
    "from tqdm import tqdm"
   ]
  },
  {
   "cell_type": "code",
   "execution_count": 24,
   "id": "79080e54-eed7-4f45-98d6-46c817ac7f9c",
   "metadata": {},
   "outputs": [
    {
     "name": "stderr",
     "output_type": "stream",
     "text": [
      "[nltk_data] Downloading package stopwords to\n",
      "[nltk_data]     C:\\Users\\itzch\\AppData\\Roaming\\nltk_data...\n",
      "[nltk_data]   Package stopwords is already up-to-date!\n",
      "[nltk_data] Downloading package wordnet to\n",
      "[nltk_data]     C:\\Users\\itzch\\AppData\\Roaming\\nltk_data...\n",
      "[nltk_data]   Package wordnet is already up-to-date!\n",
      "[nltk_data] Downloading package omw-1.4 to\n",
      "[nltk_data]     C:\\Users\\itzch\\AppData\\Roaming\\nltk_data...\n",
      "[nltk_data]   Package omw-1.4 is already up-to-date!\n"
     ]
    },
    {
     "data": {
      "text/plain": [
       "True"
      ]
     },
     "execution_count": 24,
     "metadata": {},
     "output_type": "execute_result"
    }
   ],
   "source": [
    " # Download NLTK Resources (only once)\n",
    "nltk.download('stopwords')\n",
    "nltk.download('wordnet')\n",
    "nltk.download('omw-1.4')"
   ]
  },
  {
   "cell_type": "code",
   "execution_count": 25,
   "id": "f1705416-ebb9-4393-8728-00c5d8fad93a",
   "metadata": {},
   "outputs": [],
   "source": [
    "#  Load Datasets\n",
    "fake_df = pd.read_csv('../data/dataset/Fake.csv')\n",
    "true_df = pd.read_csv('../data/dataset/True.csv')"
   ]
  },
  {
   "cell_type": "code",
   "execution_count": 26,
   "id": "23670bf8-b24f-4b96-8deb-9682aae32907",
   "metadata": {},
   "outputs": [],
   "source": [
    " # Assign Labels\n",
    "fake_df['label'] = 0  # Fake news\n",
    "true_df['label'] = 1  # Real news"
   ]
  },
  {
   "cell_type": "code",
   "execution_count": 27,
   "id": "40572906-e23c-4cc6-8479-0935cdcc1c2c",
   "metadata": {},
   "outputs": [],
   "source": [
    "# Merge Title + Text into a Single Column\n",
    "fake_df['content'] = fake_df['title'] + ' ' + fake_df['text']\n",
    "true_df['content'] = true_df['title'] + ' ' + true_df['text']"
   ]
  },
  {
   "cell_type": "code",
   "execution_count": 28,
   "id": "75d749fb-7623-4b77-9ffd-e115eff5c68e",
   "metadata": {},
   "outputs": [],
   "source": [
    "# Combine Both Datasets (in memory only)\n",
    "df = pd.concat([fake_df, true_df], ignore_index=True)"
   ]
  },
  {
   "cell_type": "code",
   "execution_count": 29,
   "id": "e3514d20-9a4c-4e12-8841-a5635dd7d119",
   "metadata": {},
   "outputs": [],
   "source": [
    "# Define Cleaning Function\n",
    "stop_words = set(stopwords.words('english'))\n",
    "lemmatizer = WordNetLemmatizer()\n",
    "\n",
    "def clean_text(text):\n",
    "    text = re.sub(r'[^a-zA-Z]', ' ', str(text))        # Remove special chars & digits\n",
    "    text = text.lower()                                # Lowercase\n",
    "    words = text.split()                               # Tokenize\n",
    "    words = [lemmatizer.lemmatize(w) for w in words if w not in stop_words]\n",
    "    return ' '.join(words)"
   ]
  },
  {
   "cell_type": "code",
   "execution_count": 30,
   "id": "315cbba3-1d28-474d-ab39-c2e5505d5b73",
   "metadata": {},
   "outputs": [
    {
     "name": "stderr",
     "output_type": "stream",
     "text": [
      "100%|███████████████████████████████████████████████████████████████████████████| 44898/44898 [01:12<00:00, 615.65it/s]\n"
     ]
    }
   ],
   "source": [
    "# Apply Cleaning with Progress Bar\n",
    "tqdm.pandas()\n",
    "df['cleaned_text'] = df['content'].progress_apply(clean_text)"
   ]
  },
  {
   "cell_type": "code",
   "execution_count": 31,
   "id": "3c6c1467-f438-4cb8-8d51-f372cd79a6c7",
   "metadata": {},
   "outputs": [
    {
     "data": {
      "text/html": [
       "<div>\n",
       "<style scoped>\n",
       "    .dataframe tbody tr th:only-of-type {\n",
       "        vertical-align: middle;\n",
       "    }\n",
       "\n",
       "    .dataframe tbody tr th {\n",
       "        vertical-align: top;\n",
       "    }\n",
       "\n",
       "    .dataframe thead th {\n",
       "        text-align: right;\n",
       "    }\n",
       "</style>\n",
       "<table border=\"1\" class=\"dataframe\">\n",
       "  <thead>\n",
       "    <tr style=\"text-align: right;\">\n",
       "      <th></th>\n",
       "      <th>cleaned_text</th>\n",
       "      <th>label</th>\n",
       "    </tr>\n",
       "  </thead>\n",
       "  <tbody>\n",
       "    <tr>\n",
       "      <th>0</th>\n",
       "      <td>donald trump sends embarrassing new year eve m...</td>\n",
       "      <td>0</td>\n",
       "    </tr>\n",
       "    <tr>\n",
       "      <th>1</th>\n",
       "      <td>drunk bragging trump staffer started russian c...</td>\n",
       "      <td>0</td>\n",
       "    </tr>\n",
       "    <tr>\n",
       "      <th>2</th>\n",
       "      <td>sheriff david clarke becomes internet joke thr...</td>\n",
       "      <td>0</td>\n",
       "    </tr>\n",
       "    <tr>\n",
       "      <th>3</th>\n",
       "      <td>trump obsessed even obama name coded website i...</td>\n",
       "      <td>0</td>\n",
       "    </tr>\n",
       "    <tr>\n",
       "      <th>4</th>\n",
       "      <td>pope francis called donald trump christmas spe...</td>\n",
       "      <td>0</td>\n",
       "    </tr>\n",
       "  </tbody>\n",
       "</table>\n",
       "</div>"
      ],
      "text/plain": [
       "                                        cleaned_text  label\n",
       "0  donald trump sends embarrassing new year eve m...      0\n",
       "1  drunk bragging trump staffer started russian c...      0\n",
       "2  sheriff david clarke becomes internet joke thr...      0\n",
       "3  trump obsessed even obama name coded website i...      0\n",
       "4  pope francis called donald trump christmas spe...      0"
      ]
     },
     "execution_count": 31,
     "metadata": {},
     "output_type": "execute_result"
    }
   ],
   "source": [
    "df[['cleaned_text', 'label']].head()"
   ]
  },
  {
   "cell_type": "code",
   "execution_count": null,
   "id": "6a4c4561-92ba-4755-bad7-75da25e3d773",
   "metadata": {},
   "outputs": [],
   "source": []
  }
 ],
 "metadata": {
  "kernelspec": {
   "display_name": "Python 3 (ipykernel)",
   "language": "python",
   "name": "python3"
  },
  "language_info": {
   "codemirror_mode": {
    "name": "ipython",
    "version": 3
   },
   "file_extension": ".py",
   "mimetype": "text/x-python",
   "name": "python",
   "nbconvert_exporter": "python",
   "pygments_lexer": "ipython3",
   "version": "3.10.9"
  }
 },
 "nbformat": 4,
 "nbformat_minor": 5
}
